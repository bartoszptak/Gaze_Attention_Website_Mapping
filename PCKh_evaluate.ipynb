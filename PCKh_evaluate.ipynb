{
 "cells": [
  {
   "cell_type": "markdown",
   "metadata": {},
   "source": [
    "Based on https://github.com/eldar/pose-tensorflow/blob/6a8f5ee90ea444e12c15eecebf8448797c52bbf5/eval_pck.py"
   ]
  },
  {
   "cell_type": "code",
   "execution_count": 1,
   "metadata": {},
   "outputs": [],
   "source": [
    "import tensorflow as tf\n",
    "import pandas as pd\n",
    "import numpy as np\n",
    "tf.keras.backend.set_learning_phase(0)"
   ]
  },
  {
   "cell_type": "code",
   "execution_count": 2,
   "metadata": {},
   "outputs": [
    {
     "name": "stdout",
     "output_type": "stream",
     "text": [
      "WARNING:tensorflow:From /home/bartoszptak/.conda/envs/tf/lib/python3.6/site-packages/tensorflow/python/ops/init_ops.py:97: calling GlorotUniform.__init__ (from tensorflow.python.ops.init_ops) with dtype is deprecated and will be removed in a future version.\n",
      "Instructions for updating:\n",
      "Call initializer instance with the dtype argument instead of passing it to the constructor\n",
      "WARNING:tensorflow:From /home/bartoszptak/.conda/envs/tf/lib/python3.6/site-packages/tensorflow/python/ops/init_ops.py:1251: calling VarianceScaling.__init__ (from tensorflow.python.ops.init_ops) with dtype is deprecated and will be removed in a future version.\n",
      "Instructions for updating:\n",
      "Call initializer instance with the dtype argument instead of passing it to the constructor\n",
      "WARNING:tensorflow:From /home/bartoszptak/.conda/envs/tf/lib/python3.6/site-packages/tensorflow/python/ops/init_ops.py:97: calling Zeros.__init__ (from tensorflow.python.ops.init_ops) with dtype is deprecated and will be removed in a future version.\n",
      "Instructions for updating:\n",
      "Call initializer instance with the dtype argument instead of passing it to the constructor\n",
      "WARNING:tensorflow:From /home/bartoszptak/.conda/envs/tf/lib/python3.6/site-packages/tensorflow/python/ops/init_ops.py:97: calling Ones.__init__ (from tensorflow.python.ops.init_ops) with dtype is deprecated and will be removed in a future version.\n",
      "Instructions for updating:\n",
      "Call initializer instance with the dtype argument instead of passing it to the constructor\n"
     ]
    }
   ],
   "source": [
    "model = tf.keras.models.load_model('data/train/model.h5', compile=False)"
   ]
  },
  {
   "cell_type": "code",
   "execution_count": 3,
   "metadata": {},
   "outputs": [],
   "source": [
    "batch_size = 32\n",
    "n_stack = 1\n",
    "sigma = 1.0\n",
    "\n",
    "num_images = 256\n",
    "num_joints = 7"
   ]
  },
  {
   "cell_type": "code",
   "execution_count": 4,
   "metadata": {},
   "outputs": [],
   "source": [
    "from Data_utils import DataGenerator, postprocessing"
   ]
  },
  {
   "cell_type": "code",
   "execution_count": 5,
   "metadata": {},
   "outputs": [],
   "source": [
    "test_gen = DataGenerator('data/dataset/', 'test_landmarks.csv', \n",
    "                         inres=(128,128), outres=(32,32), nparts=7)"
   ]
  },
  {
   "cell_type": "code",
   "execution_count": 6,
   "metadata": {},
   "outputs": [],
   "source": [
    "data = next(test_gen.generator(len(test_gen),n_stack,sigma=sigma))"
   ]
  },
  {
   "cell_type": "code",
   "execution_count": 7,
   "metadata": {},
   "outputs": [],
   "source": [
    "pred = model.predict(data[0], batch_size=1)\n",
    "pred = np.array([postprocessing(pred[i:i+1])[0] for i in range(len(pred))])"
   ]
  },
  {
   "cell_type": "code",
   "execution_count": 8,
   "metadata": {},
   "outputs": [],
   "source": [
    "gt =np.array([postprocessing(data[1][0][i:i+1])[0] for i in range(len(data[1][0]))])"
   ]
  },
  {
   "cell_type": "code",
   "execution_count": 9,
   "metadata": {},
   "outputs": [
    {
     "name": "stdout",
     "output_type": "stream",
     "text": [
      "(256, 7, 2)\n",
      "(256, 7, 2)\n"
     ]
    }
   ],
   "source": [
    "print(gt.shape)\n",
    "print(pred.shape)"
   ]
  },
  {
   "cell_type": "code",
   "execution_count": 50,
   "metadata": {},
   "outputs": [],
   "source": [
    "def calculate_PCKh(pred, gt, num_joints, num_images, pck_ratio_thresh=0.5, show_results=False):\n",
    "    pred_joints = pred\n",
    "    gt_joints = gt\n",
    "    pck_thresh = np.zeros((num_images, 1))\n",
    "    gt_present_joints = np.zeros((num_images, num_joints))\n",
    "    \n",
    "    def enclosing_rect(points):\n",
    "        xs = points[:, 0]\n",
    "        ys = points[:, 1]\n",
    "        return np.array([np.amin(xs), np.amin(ys), np.amax(xs), np.amax(ys)])\n",
    "    \n",
    "    def rect_size(rect):\n",
    "        return np.array([rect[2]-rect[0], rect[3]-rect[1]])\n",
    "    \n",
    "    for k in range(num_images):\n",
    "        pred_, gt_ = pred[k], gt[k]\n",
    "        gt_joint_ids = np.arange(0,num_joints)\n",
    "        rect = enclosing_rect(gt_)\n",
    "        pck_thresh[k] = pck_ratio_thresh*np.amax(rect_size(rect))\n",
    "        gt_present_joints[k, gt_joint_ids] = 1\n",
    "        \n",
    "    dists = np.sqrt(np.sum((pred_joints - gt_joints)**2, axis=2))\n",
    "    correct = dists <= pck_thresh\n",
    "    \n",
    "    num_all = np.sum(gt_present_joints, axis=0)\n",
    "\n",
    "    num_correct = np.zeros((num_joints, ))\n",
    "    for j_id in range(num_joints):\n",
    "        num_correct[j_id] = np.sum(correct[gt_present_joints[:,j_id] == 1, j_id], axis=0)\n",
    "\n",
    "    pck = num_correct/num_all*100.0\n",
    "    \n",
    "    if show_results:\n",
    "        print(\" & \".join(['left', 'right', 'center', 'lc', 'rc', 'up', 'down', 'total']))\n",
    "        print(\" & \".join([str(x) for x in pck] + [str(pck.mean())]))\n",
    "        \n",
    "    return pck"
   ]
  },
  {
   "cell_type": "code",
   "execution_count": 51,
   "metadata": {},
   "outputs": [
    {
     "name": "stdout",
     "output_type": "stream",
     "text": [
      "left & right & center & lc & rc & up & down & total\n",
      "68.75 & 68.75 & 99.609375 & 97.65625 & 99.609375 & 100.0 & 100.0 & 90.625\n"
     ]
    }
   ],
   "source": [
    "pck = calculate_PCKh(pred, gt, num_joints, num_images, pck_ratio_thresh=0.5, show_results=True)"
   ]
  },
  {
   "cell_type": "code",
   "execution_count": null,
   "metadata": {},
   "outputs": [],
   "source": []
  }
 ],
 "metadata": {
  "kernelspec": {
   "display_name": "Python 3",
   "language": "python",
   "name": "python3"
  },
  "language_info": {
   "codemirror_mode": {
    "name": "ipython",
    "version": 3
   },
   "file_extension": ".py",
   "mimetype": "text/x-python",
   "name": "python",
   "nbconvert_exporter": "python",
   "pygments_lexer": "ipython3",
   "version": "3.6.9"
  }
 },
 "nbformat": 4,
 "nbformat_minor": 2
}
