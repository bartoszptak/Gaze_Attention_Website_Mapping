{
 "cells": [
  {
   "cell_type": "markdown",
   "metadata": {},
   "source": [
    "# imports"
   ]
  },
  {
   "cell_type": "code",
   "execution_count": 1,
   "metadata": {},
   "outputs": [],
   "source": [
    "import tensorflow as tf\n",
    "tf.keras.backend.set_learning_phase(0)\n",
    "\n",
    "import tensorflow.keras.backend as K\n",
    "import tensorflow.contrib.tensorrt as trt"
   ]
  },
  {
   "cell_type": "markdown",
   "metadata": {},
   "source": [
    "## save utils"
   ]
  },
  {
   "cell_type": "code",
   "execution_count": 2,
   "metadata": {},
   "outputs": [],
   "source": [
    "def save_graph_to_pb(graph, destination_path):\n",
    "    with open(destination_path, 'wb') as f:\n",
    "        f.write(graph.SerializeToString())"
   ]
  },
  {
   "cell_type": "markdown",
   "metadata": {},
   "source": [
    "## load model"
   ]
  },
  {
   "cell_type": "code",
   "execution_count": 3,
   "metadata": {},
   "outputs": [],
   "source": [
    "model = tf.keras.models.load_model('model/model.h5')"
   ]
  },
  {
   "cell_type": "markdown",
   "metadata": {},
   "source": [
    "## freeze session"
   ]
  },
  {
   "cell_type": "code",
   "execution_count": 4,
   "metadata": {},
   "outputs": [],
   "source": [
    "def freeze_session_into_graph(session, output_names=None, keep_var_names=None, clear_devices=True):\n",
    "    graph = session.graph\n",
    "    with graph.as_default():\n",
    "        freeze_var_names = list(set(v.op.name for v in tf.global_variables()).difference(keep_var_names or []))\n",
    "        output_names = output_names or []\n",
    "        output_names += [v.op.name for v in tf.global_variables()]\n",
    "        input_graph_def = graph.as_graph_def()\n",
    "\n",
    "        if clear_devices:\n",
    "            for node in input_graph_def.node:\n",
    "                node.device = \"\"\n",
    "\n",
    "        frozen_graph = tf.graph_util.convert_variables_to_constants(\n",
    "            session, input_graph_def, output_names, freeze_var_names)\n",
    "\n",
    "        return frozen_graph"
   ]
  },
  {
   "cell_type": "code",
   "execution_count": 5,
   "metadata": {},
   "outputs": [
    {
     "name": "stdout",
     "output_type": "stream",
     "text": [
      "INFO:tensorflow:Froze 975 variables.\n",
      "INFO:tensorflow:Converted 975 variables to const ops.\n"
     ]
    }
   ],
   "source": [
    "frozen_graph = freeze_session_into_graph(session=K.get_session(),\n",
    "                                        output_names=[out.op.name for out in model.outputs])"
   ]
  },
  {
   "cell_type": "code",
   "execution_count": 6,
   "metadata": {},
   "outputs": [],
   "source": [
    "save_graph_to_pb(frozen_graph, 'model/frozen.pb')"
   ]
  },
  {
   "cell_type": "markdown",
   "metadata": {},
   "source": [
    "## tensor RT"
   ]
  },
  {
   "cell_type": "code",
   "execution_count": 7,
   "metadata": {},
   "outputs": [],
   "source": [
    "def optimize_graph_with_tensorrt(frozen_graph, output_layers, precision_mode='FP32', \n",
    "                                 max_batch_size=1, workspace_bytes=2*10**9):\n",
    "    \n",
    "    trt_graph = trt.create_inference_graph(\n",
    "        input_graph_def=frozen_graph,\n",
    "        outputs=output_layers,\n",
    "        max_batch_size=max_batch_size,\n",
    "        max_workspace_size_bytes=workspace_bytes,\n",
    "        precision_mode=precision_mode)\n",
    "\n",
    "    return trt_graph"
   ]
  },
  {
   "cell_type": "code",
   "execution_count": 8,
   "metadata": {},
   "outputs": [
    {
     "name": "stdout",
     "output_type": "stream",
     "text": [
      "INFO:tensorflow:Running against TensorRT version 0.0.0\n"
     ]
    }
   ],
   "source": [
    "inference_graph = optimize_graph_with_tensorrt(frozen_graph, \n",
    "                                               [out.op.name for out in model.outputs], \n",
    "                                               max_batch_size=2)"
   ]
  },
  {
   "cell_type": "code",
   "execution_count": 9,
   "metadata": {},
   "outputs": [
    {
     "name": "stdout",
     "output_type": "stream",
     "text": [
      "The input graph has 1564 nodes\n",
      "The output graph has 602 nodes\n"
     ]
    }
   ],
   "source": [
    "print('The input graph has {} nodes'.format(sum([1 for _ in frozen_graph.node])))\n",
    "print('The output graph has {} nodes'.format(sum([1 for _ in inference_graph.node])))"
   ]
  },
  {
   "cell_type": "code",
   "execution_count": 10,
   "metadata": {},
   "outputs": [],
   "source": [
    "save_graph_to_pb(inference_graph, 'model/inference.pb')"
   ]
  },
  {
   "cell_type": "markdown",
   "metadata": {},
   "source": [
    "# check"
   ]
  },
  {
   "cell_type": "code",
   "execution_count": 11,
   "metadata": {},
   "outputs": [],
   "source": [
    "def load_graph_from_pb(graph_path):\n",
    "    tf.reset_default_graph()\n",
    "\n",
    "    session = tf.Session()\n",
    "\n",
    "    with tf.gfile.GFile(graph_path,'rb') as f:\n",
    "        graph_def = tf.GraphDef()        \n",
    "        graph_def.ParseFromString(f.read())\n",
    "    \n",
    "    session.graph.as_default()\n",
    "    tf.import_graph_def(graph_def)\n",
    "    return session\n",
    "\n",
    "sess = load_graph_from_pb('model/inference.pb')"
   ]
  },
  {
   "cell_type": "code",
   "execution_count": 12,
   "metadata": {},
   "outputs": [],
   "source": [
    "writer = tf.summary.FileWriter('model/', sess.graph)\n",
    "writer.flush()\n",
    "writer.close()"
   ]
  },
  {
   "cell_type": "code",
   "execution_count": 13,
   "metadata": {},
   "outputs": [
    {
     "data": {
      "text/plain": [
       "<tf.Tensor 'import/input_1:0' shape=(?, 128, 128, 1) dtype=float32>"
      ]
     },
     "execution_count": 13,
     "metadata": {},
     "output_type": "execute_result"
    }
   ],
   "source": [
    "sess.graph.get_tensor_by_name(\"import/input_1:0\")"
   ]
  },
  {
   "cell_type": "code",
   "execution_count": 14,
   "metadata": {},
   "outputs": [
    {
     "data": {
      "text/plain": [
       "<tf.Tensor 'import/0_conv_1x1_parts/BiasAdd:0' shape=(?, 32, 32, 7) dtype=float32>"
      ]
     },
     "execution_count": 14,
     "metadata": {},
     "output_type": "execute_result"
    }
   ],
   "source": [
    "sess.graph.get_tensor_by_name(\"import/0_conv_1x1_parts/BiasAdd:0\")"
   ]
  },
  {
   "cell_type": "code",
   "execution_count": null,
   "metadata": {},
   "outputs": [],
   "source": []
  }
 ],
 "metadata": {
  "accelerator": "GPU",
  "colab": {
   "collapsed_sections": [],
   "name": "Train.ipynb",
   "provenance": [],
   "version": "0.3.2"
  },
  "kernelspec": {
   "display_name": "Python 3",
   "language": "python",
   "name": "python3"
  },
  "language_info": {
   "codemirror_mode": {
    "name": "ipython",
    "version": 3
   },
   "file_extension": ".py",
   "mimetype": "text/x-python",
   "name": "python",
   "nbconvert_exporter": "python",
   "pygments_lexer": "ipython3",
   "version": "3.6.4"
  }
 },
 "nbformat": 4,
 "nbformat_minor": 1
}
